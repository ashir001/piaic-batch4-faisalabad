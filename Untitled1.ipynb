{
 "cells": [
  {
   "cell_type": "code",
   "execution_count": 26,
   "metadata": {},
   "outputs": [],
   "source": [
    "asd = [['Ali', 35000, 'Software Engineer'],\n",
    " ['Talha', 55000, 'Product Manager'],\n",
    " ['Nasir', 90000, 'Product manager'],\n",
    " ['Khalid', 50000, 'DBA']]"
   ]
  },
  {
   "cell_type": "code",
   "execution_count": 27,
   "metadata": {},
   "outputs": [
    {
     "data": {
      "text/plain": [
       "230000"
      ]
     },
     "execution_count": 27,
     "metadata": {},
     "output_type": "execute_result"
    }
   ],
   "source": [
    "\n",
    "tot_salary = 0\n",
    "for c in asd:\n",
    "    tot_salary = tot_salary + c[1]\n",
    "    \n",
    "tot_salary\n"
   ]
  },
  {
   "cell_type": "code",
   "execution_count": 28,
   "metadata": {},
   "outputs": [
    {
     "data": {
      "text/plain": [
       "782"
      ]
     },
     "execution_count": 28,
     "metadata": {},
     "output_type": "execute_result"
    }
   ],
   "source": [
    "a = 23\n",
    "b = 34\n",
    "a *=b\n",
    "a"
   ]
  },
  {
   "cell_type": "code",
   "execution_count": 29,
   "metadata": {},
   "outputs": [
    {
     "data": {
      "text/plain": [
       "230000"
      ]
     },
     "execution_count": 29,
     "metadata": {},
     "output_type": "execute_result"
    }
   ],
   "source": [
    "tot_salary"
   ]
  },
  {
   "cell_type": "code",
   "execution_count": 30,
   "metadata": {},
   "outputs": [
    {
     "ename": "SyntaxError",
     "evalue": "invalid syntax (<ipython-input-30-828ec4a4fd72>, line 1)",
     "output_type": "error",
     "traceback": [
      "\u001b[1;36m  File \u001b[1;32m\"<ipython-input-30-828ec4a4fd72>\"\u001b[1;36m, line \u001b[1;32m1\u001b[0m\n\u001b[1;33m    a =\u001b[0m\n\u001b[1;37m        ^\u001b[0m\n\u001b[1;31mSyntaxError\u001b[0m\u001b[1;31m:\u001b[0m invalid syntax\n"
     ]
    }
   ],
   "source": [
    "a = "
   ]
  },
  {
   "cell_type": "code",
   "execution_count": 31,
   "metadata": {},
   "outputs": [
    {
     "data": {
      "text/plain": [
       "['Software Engineer', 'Product Manager', 'Product manager', 'DBA']"
      ]
     },
     "execution_count": 31,
     "metadata": {},
     "output_type": "execute_result"
    }
   ],
   "source": [
    "salary = []\n",
    "for x in asd:\n",
    "    salary.append(    x[2]    )\n",
    "salary"
   ]
  },
  {
   "cell_type": "code",
   "execution_count": 33,
   "metadata": {},
   "outputs": [
    {
     "name": "stdout",
     "output_type": "stream",
     "text": [
      "50000\n",
      "100000\n",
      "150000\n",
      "200000\n",
      "250000\n",
      "300000\n",
      "350000\n",
      "400000\n",
      "450000\n",
      "500000\n",
      "550000\n",
      "600000\n",
      "650000\n",
      "700000\n",
      "750000\n",
      "800000\n",
      "850000\n",
      "900000\n",
      "950000\n",
      "1000000\n",
      "1050000\n",
      "1100000\n",
      "1150000\n",
      "1200000\n",
      "1250000\n",
      "1300000\n",
      "1350000\n",
      "1400000\n",
      "1450000\n",
      "1500000\n",
      "1550000\n",
      "1600000\n",
      "1650000\n",
      "1700000\n",
      "1750000\n",
      "1800000\n",
      "1850000\n",
      "1900000\n",
      "1950000\n",
      "2000000\n",
      "2050000\n",
      "2100000\n",
      "2150000\n",
      "2200000\n",
      "2250000\n",
      "2300000\n",
      "2350000\n",
      "2400000\n",
      "2450000\n",
      "2500000\n",
      "2550000\n",
      "2600000\n",
      "2650000\n",
      "2700000\n",
      "2750000\n",
      "2800000\n",
      "2850000\n",
      "2900000\n",
      "2950000\n",
      "3000000\n",
      "3050000\n",
      "3100000\n",
      "3150000\n",
      "3200000\n",
      "3250000\n",
      "3300000\n",
      "3350000\n",
      "3400000\n",
      "3450000\n",
      "3500000\n",
      "3550000\n",
      "3600000\n",
      "3650000\n",
      "3700000\n",
      "3750000\n",
      "3800000\n",
      "3850000\n",
      "3900000\n",
      "3950000\n",
      "4000000\n",
      "4050000\n",
      "4100000\n",
      "4150000\n",
      "4200000\n",
      "4250000\n",
      "4300000\n",
      "4350000\n",
      "4400000\n",
      "4450000\n",
      "4500000\n",
      "4550000\n",
      "4600000\n",
      "4650000\n",
      "4700000\n",
      "4750000\n",
      "4800000\n",
      "4850000\n",
      "4900000\n",
      "4950000\n",
      "5000000\n"
     ]
    }
   ],
   "source": [
    "for i in range(1,101):\n",
    "    print(i * 50000)"
   ]
  },
  {
   "cell_type": "code",
   "execution_count": 34,
   "metadata": {},
   "outputs": [
    {
     "ename": "NameError",
     "evalue": "name 'salery' is not defined",
     "output_type": "error",
     "traceback": [
      "\u001b[1;31m---------------------------------------------------------------------------\u001b[0m",
      "\u001b[1;31mNameError\u001b[0m                                 Traceback (most recent call last)",
      "\u001b[1;32m<ipython-input-34-782978807b5c>\u001b[0m in \u001b[0;36m<module>\u001b[1;34m\u001b[0m\n\u001b[1;32m----> 1\u001b[1;33m \u001b[0msalery\u001b[0m\u001b[1;33m\u001b[0m\u001b[1;33m\u001b[0m\u001b[0m\n\u001b[0m",
      "\u001b[1;31mNameError\u001b[0m: name 'salery' is not defined"
     ]
    }
   ],
   "source": [
    "salery"
   ]
  },
  {
   "cell_type": "code",
   "execution_count": 35,
   "metadata": {},
   "outputs": [],
   "source": [
    "emp = [['Waqas', 27, 'Male', 350000],\n",
    " ['Faizan', 22, 'Male', 300000],\n",
    " ['Khurram', 25, 'Male', 320000],\n",
    " ['Saad', 23, 'Male', 200000]]\n"
   ]
  },
  {
   "cell_type": "code",
   "execution_count": 36,
   "metadata": {},
   "outputs": [
    {
     "name": "stdout",
     "output_type": "stream",
     "text": [
      "Waqas with gender  Male with salary  350000 waleee\n",
      "Faizan with gender  Male with salary  300000 waleee\n",
      "Khurram with gender  Male with salary  320000 waleee\n",
      "Saad with gender  Male with salary  200000 waleee\n"
     ]
    }
   ],
   "source": [
    "for b in emp:\n",
    "    salary = b[1]\n",
    "    if salary >= 22:\n",
    "        print(b[0],\"with gender \", b[2], \"with salary \" ,b[-1],\"waleee\")"
   ]
  },
  {
   "cell_type": "code",
   "execution_count": null,
   "metadata": {},
   "outputs": [],
   "source": [
    "g\n"
   ]
  },
  {
   "cell_type": "code",
   "execution_count": 37,
   "metadata": {},
   "outputs": [
    {
     "name": "stdout",
     "output_type": "stream",
     "text": [
      "ok\n"
     ]
    }
   ],
   "source": [
    "if 2==2:\n",
    "    print(\"ok\")\n",
    "else:\n",
    "    print(\"no\")"
   ]
  },
  {
   "cell_type": "code",
   "execution_count": 38,
   "metadata": {},
   "outputs": [
    {
     "name": "stdout",
     "output_type": "stream",
     "text": [
      "no\n"
     ]
    }
   ],
   "source": [
    "if 2==3:\n",
    "    print(\"ok\")\n",
    "else:\n",
    "    print(\"no\")"
   ]
  },
  {
   "cell_type": "code",
   "execution_count": 39,
   "metadata": {},
   "outputs": [
    {
     "data": {
      "text/plain": [
       "bool"
      ]
     },
     "execution_count": 39,
     "metadata": {},
     "output_type": "execute_result"
    }
   ],
   "source": [
    "a = 2<3\n",
    "type(a)"
   ]
  },
  {
   "cell_type": "code",
   "execution_count": 4,
   "metadata": {},
   "outputs": [
    {
     "name": "stdout",
     "output_type": "stream",
     "text": [
      "please give your emailwaqas\n",
      "123\n",
      "invalid username\n"
     ]
    }
   ],
   "source": [
    "username = input(\"please give your email\")\n",
    "password = input()\n",
    "if username==\"Waqas\":\n",
    "    if password == \"123\":\n",
    "        print(\"login successfull\")\n",
    "        print(\"Redirecting\")\n",
    "\n",
    "    else:\n",
    "        print(\"wrong password\")\n",
    "else:\n",
    "    print(\"invalid username\")"
   ]
  },
  {
   "cell_type": "code",
   "execution_count": 11,
   "metadata": {},
   "outputs": [
    {
     "name": "stdout",
     "output_type": "stream",
     "text": [
      "A Grade\n"
     ]
    }
   ],
   "source": [
    "marks =  222\n",
    "\n",
    "if marks > 90:\n",
    "    print(\"A Grade\")\n",
    "    \n",
    "elif marks > 80:\n",
    "    print(\"B Grade\")\n",
    "    \n",
    "elif marks > 65:\n",
    "    print(\"C Grade\")\n",
    "elif marks > 50:\n",
    "    print(\"D Grade\")\n",
    "    \n",
    "else:\n",
    "    print(\"F Grade\")\n"
   ]
  },
  {
   "cell_type": "code",
   "execution_count": 20,
   "metadata": {},
   "outputs": [],
   "source": [
    "\n",
    "names = [\"Ali\",\"hamza\", \"Bilal\", \"Ali\",\"shukur\"]"
   ]
  },
  {
   "cell_type": "code",
   "execution_count": 23,
   "metadata": {},
   "outputs": [],
   "source": [
    "names.reverse()"
   ]
  },
  {
   "cell_type": "code",
   "execution_count": 24,
   "metadata": {},
   "outputs": [
    {
     "data": {
      "text/plain": [
       "['shukur', 'hamza', 'Bilal', 'Ali', 'Ali']"
      ]
     },
     "execution_count": 24,
     "metadata": {},
     "output_type": "execute_result"
    }
   ],
   "source": [
    "names"
   ]
  },
  {
   "cell_type": "code",
   "execution_count": null,
   "metadata": {},
   "outputs": [],
   "source": []
  }
 ],
 "metadata": {
  "kernelspec": {
   "display_name": "Python 3",
   "language": "python",
   "name": "python3"
  },
  "language_info": {
   "codemirror_mode": {
    "name": "ipython",
    "version": 3
   },
   "file_extension": ".py",
   "mimetype": "text/x-python",
   "name": "python",
   "nbconvert_exporter": "python",
   "pygments_lexer": "ipython3",
   "version": "3.7.4"
  }
 },
 "nbformat": 4,
 "nbformat_minor": 2
}
